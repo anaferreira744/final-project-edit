{
  "nbformat": 4,
  "nbformat_minor": 0,
  "metadata": {
    "colab": {
      "provenance": [],
      "authorship_tag": "ABX9TyMEwPXNqpMKLkQo7AR1dSDJ",
      "include_colab_link": true
    },
    "kernelspec": {
      "name": "python3",
      "display_name": "Python 3"
    },
    "language_info": {
      "name": "python"
    }
  },
  "cells": [
    {
      "cell_type": "markdown",
      "metadata": {
        "id": "view-in-github",
        "colab_type": "text"
      },
      "source": [
        "<a href=\"https://colab.research.google.com/github/vaniamv/final-project-edit/blob/main/Streaming_test_vv.ipynb\" target=\"_parent\"><img src=\"https://colab.research.google.com/assets/colab-badge.svg\" alt=\"Open In Colab\"/></a>"
      ]
    },
    {
      "cell_type": "code",
      "execution_count": 2,
      "metadata": {
        "colab": {
          "base_uri": "https://localhost:8080/"
        },
        "id": "Nasp9TP3zwaM",
        "outputId": "7bed0ede-4c51-4c0d-a8fa-d87a49ee327d"
      },
      "outputs": [
        {
          "output_type": "stream",
          "name": "stdout",
          "text": [
            "Go to the following link in your browser, and complete the sign-in prompts:\n",
            "\n",
            "    https://accounts.google.com/o/oauth2/auth?response_type=code&client_id=764086051850-6qr4p6gpi6hn506pt8ejuq83di341hur.apps.googleusercontent.com&redirect_uri=https%3A%2F%2Fsdk.cloud.google.com%2Fapplicationdefaultauthcode.html&scope=openid+https%3A%2F%2Fwww.googleapis.com%2Fauth%2Fuserinfo.email+https%3A%2F%2Fwww.googleapis.com%2Fauth%2Fcloud-platform+https%3A%2F%2Fwww.googleapis.com%2Fauth%2Fsqlservice.login&state=m8PdlIeAZX3ogn5I5O0ViUHHUJ4cE5&prompt=consent&token_usage=remote&access_type=offline&code_challenge=ETwKvgRZc5s5KKKLZG2l2XMZyv8D7WZh6_pKqOFofoI&code_challenge_method=S256\n",
            "\n",
            "Once finished, enter the verification code provided in your browser: 4/0AanRRrtCW-_fmrmdyMuLTZGWvyUZv0yFJVSmPzMBePnda91-Fs_EQauhm9PERrdJsYNo1A\n",
            "\n",
            "Credentials saved to file: [/content/.config/application_default_credentials.json]\n",
            "\n",
            "These credentials will be used by any library that requests Application Default Credentials (ADC).\n",
            "\u001b[1;33mWARNING:\u001b[0m \n",
            "Cannot find a quota project to add to ADC. You might receive a \"quota exceeded\" or \"API not enabled\" error. Run $ gcloud auth application-default set-quota-project to add a quota project.\n"
          ]
        }
      ],
      "source": [
        "# autentication to gcloud with login\n",
        "\n",
        "!gcloud auth application-default login"
      ]
    },
    {
      "cell_type": "code",
      "source": [
        "# download connector and save it local\n",
        "\n",
        "!wget https://repo1.maven.org/maven2/com/google/cloud/bigdataoss/gcs-connector/hadoop3-2.2.7/gcs-connector-hadoop3-2.2.7-shaded.jar -P /usr/local/lib/"
      ],
      "metadata": {
        "colab": {
          "base_uri": "https://localhost:8080/"
        },
        "id": "ZSysWUdy0Gxo",
        "outputId": "53304341-080e-4b76-b20a-62b5bf919c8a"
      },
      "execution_count": 3,
      "outputs": [
        {
          "output_type": "stream",
          "name": "stdout",
          "text": [
            "--2025-01-04 19:35:26--  https://repo1.maven.org/maven2/com/google/cloud/bigdataoss/gcs-connector/hadoop3-2.2.7/gcs-connector-hadoop3-2.2.7-shaded.jar\n",
            "Resolving repo1.maven.org (repo1.maven.org)... 199.232.192.209, 199.232.196.209, 2a04:4e42:4c::209, ...\n",
            "Connecting to repo1.maven.org (repo1.maven.org)|199.232.192.209|:443... connected.\n",
            "HTTP request sent, awaiting response... 200 OK\n",
            "Length: 33831577 (32M) [application/java-archive]\n",
            "Saving to: ‘/usr/local/lib/gcs-connector-hadoop3-2.2.7-shaded.jar’\n",
            "\n",
            "gcs-connector-hadoo 100%[===================>]  32.26M   204MB/s    in 0.2s    \n",
            "\n",
            "2025-01-04 19:35:26 (204 MB/s) - ‘/usr/local/lib/gcs-connector-hadoop3-2.2.7-shaded.jar’ saved [33831577/33831577]\n",
            "\n"
          ]
        }
      ]
    },
    {
      "cell_type": "code",
      "source": [
        "# import libraries\n",
        "\n",
        "import os\n",
        "from pyspark.sql import SparkSession\n",
        "\n",
        "#spark session\n",
        "spark = SparkSession.builder \\\n",
        "    .appName('GCS_Spark') \\\n",
        "    .config('spark.jars', '/usr/local/lib/gcs-connector-hadoop3-2.2.7-shaded.jar') \\\n",
        "    .config('spark.hadoop.fs.gs.impl', 'com.google.cloud.hadoop.fs.gcs.GoogleHadoopFileSystem') \\\n",
        "    .getOrCreate()\n",
        "\n",
        "# save credentials\n",
        "os.environ[\"GOOGLE_APPLICATION_CREDENTIALS\"] = '/content/.config/application_default_credentials.json'\n",
        "\n",
        "# Config PySpark to access the GCS\n",
        "spark._jsc.hadoopConfiguration().set(\"fs.gs.impl\", \"com.google.cloud.hadoop.fs.gcs.GoogleHadoopFileSystem\")\n",
        "spark._jsc.hadoopConfiguration().set(\"fs.AbstractFileSystem.gs.impl\", \"com.google.cloud.hadoop.fs.gcs.GoogleHadoopFS\")\n",
        "spark._jsc.hadoopConfiguration().set(\"fs.gs.auth.service.account.enable\", \"true\")\n",
        "spark._jsc.hadoopConfiguration().set(\"google.cloud.auth.service.account.json.keyfile\", '/content/.config/application_default_credentials.json')\n"
      ],
      "metadata": {
        "id": "E6bEUtdP0MFV"
      },
      "execution_count": 4,
      "outputs": []
    },
    {
      "cell_type": "code",
      "source": [
        "# Try reading a small file or a few records to avoid long processing times.\n",
        "try:\n",
        "  df = spark.read.format(\"json\").load(\"gs://edit-de-project-streaming-data/carris-vehicles/vehicles_1735929391.json\")\n",
        "  df.show(5)  # Display the first 5 rows\n",
        "  print(\"Connection successful!\")\n",
        "except Exception as e:\n",
        "  print(f\"Connection failed: {e}\")"
      ],
      "metadata": {
        "colab": {
          "base_uri": "https://localhost:8080/"
        },
        "id": "jEBLuF420U7w",
        "outputId": "72c38a8c-01e4-4121-e34d-66cdd9310ebb"
      },
      "execution_count": 6,
      "outputs": [
        {
          "output_type": "stream",
          "name": "stdout",
          "text": [
            "+-------+--------------------+--------------+--------+-----------------+-------+------------------+----------+--------+---------------------+------------+------------------+-------+----------+--------------------+\n",
            "|bearing|            block_id|current_status|      id|              lat|line_id|               lon|pattern_id|route_id|schedule_relationship|    shift_id|             speed|stop_id| timestamp|             trip_id|\n",
            "+-------+--------------------+--------------+--------+-----------------+-------+------------------+----------+--------+---------------------+------------+------------------+-------+----------+--------------------+\n",
            "|     90|20250103-64410390...|   INCOMING_AT|44|12697|38.70689010620117|   4704|-8.962684631347656|  4704_0_1|  4704_0|            SCHEDULED|223440234560|13.333333333333332| 100398|1735929373|4704_0_1|1400|181...|\n",
            "|     67|20250103-64410147...| IN_TRANSIT_TO|44|12655|38.68401336669922|   4701|-8.952688217163086|  4701_0_2|  4701_0|            SCHEDULED|223240234560|12.222222222222221| 060005|1735929378|4701_0_2|1400|180...|\n",
            "|    180|20250103-64410145...|   INCOMING_AT|44|12069|38.72528839111328|   4512|-8.972769737243652|  4512_0_1|  4512_0|            SCHEDULED|221420234560|13.333333333333332| 100341|1735929377|4512_0_1|1400|181...|\n",
            "|     96|20250103-64410275...|   INCOMING_AT|44|12660| 38.5703239440918|   4710|-8.905844688415527|  4710_0_1|  4710_0|            SCHEDULED|213300234560| 5.277777777777778| 130803|1735929336|4710_0_1|1400|174...|\n",
            "|    221|20250103-64410226...| IN_TRANSIT_TO|44|12743|   38.65576171875|   4701|-9.012577056884766|  4701_0_1|  4701_0|            SCHEDULED|223390234560| 9.722222222222221| 090003|1735929365|4701_0_1|1400|175...|\n",
            "+-------+--------------------+--------------+--------+-----------------+-------+------------------+----------+--------+---------------------+------------+------------------+-------+----------+--------------------+\n",
            "only showing top 5 rows\n",
            "\n",
            "Connection successful!\n"
          ]
        }
      ]
    },
    {
      "cell_type": "code",
      "source": [
        "from pyspark.sql.types import *\n",
        "\n",
        "# create schema\n",
        "vehicle_schema = StructType([StructField('bearing', IntegerType(), True),\n",
        "                             StructField('block_id', StringType(), True),\n",
        "                             StructField('current_status', StringType(), True),\n",
        "                             StructField('id', StringType(), True),\n",
        "                             StructField('lat', FloatType(), True),\n",
        "                             StructField('line_id', StringType(), True),\n",
        "                             StructField('lon', FloatType(), True),\n",
        "                             StructField('pattern_id', StringType(), True),\n",
        "                             StructField('route_id', StringType(), True),\n",
        "                             StructField('schedule_relationship', StringType(), True),\n",
        "                             StructField('shift_id', StringType(), True),\n",
        "                             StructField('speed', FloatType(), True),\n",
        "                             StructField('stop_id', StringType(), True),\n",
        "                             StructField('timestamp', TimestampType(), True),\n",
        "                             StructField('trip_id', StringType(), True)])\n",
        "\n",
        "\n",
        "#readStreaming\n",
        "stream = spark.readStream.format(\"json\").schema(vehicle_schema).load(\"gs://edit-de-project-streaming-data/carris-vehicles\")"
      ],
      "metadata": {
        "id": "IQCjtB690VfK"
      },
      "execution_count": 7,
      "outputs": []
    },
    {
      "cell_type": "code",
      "source": [
        "stream.isStreaming"
      ],
      "metadata": {
        "colab": {
          "base_uri": "https://localhost:8080/"
        },
        "id": "N9neYDUU7g3t",
        "outputId": "ec5fb8e2-3703-4a38-d4c7-9baec016779c"
      },
      "execution_count": 20,
      "outputs": [
        {
          "output_type": "execute_result",
          "data": {
            "text/plain": [
              "True"
            ]
          },
          "metadata": {},
          "execution_count": 20
        }
      ]
    },
    {
      "cell_type": "code",
      "source": [
        "\n",
        "\n",
        "output_path=\"gs://edit-data-eng-project-group1/datalake/stream/vehicles_5\"\n",
        "\n",
        "# writeStreaming\n",
        "query = (stream\n",
        "        .writeStream\n",
        "        #.queryName('table')\n",
        "        .outputMode(\"append\")\n",
        "        #.foreachBatch(insert_vehicles)\n",
        "        .option(\"path\", output_path)\n",
        "        .option('checkpointLocation', 'gs://edit-data-eng-project-group1/datalake/stream/vehicles_5/checkpoint')\n",
        "        #.trigger(processingTime='5 seconds')\n",
        "        .start()\n",
        "\n",
        "        )\n",
        "\n",
        "query.awaitTermination(60)"
      ],
      "metadata": {
        "colab": {
          "base_uri": "https://localhost:8080/",
          "height": 492
        },
        "id": "hDn8R7UI7VdW",
        "outputId": "fabdcc1b-262b-4977-991b-810f05e90572"
      },
      "execution_count": 22,
      "outputs": [
        {
          "output_type": "stream",
          "name": "stderr",
          "text": [
            "ERROR:root:KeyboardInterrupt while sending command.\n",
            "Traceback (most recent call last):\n",
            "  File \"/usr/local/lib/python3.10/dist-packages/py4j/java_gateway.py\", line 1038, in send_command\n",
            "    response = connection.send_command(command)\n",
            "  File \"/usr/local/lib/python3.10/dist-packages/py4j/clientserver.py\", line 511, in send_command\n",
            "    answer = smart_decode(self.stream.readline()[:-1])\n",
            "  File \"/usr/lib/python3.10/socket.py\", line 705, in readinto\n",
            "    return self._sock.recv_into(b)\n",
            "KeyboardInterrupt\n"
          ]
        },
        {
          "output_type": "error",
          "ename": "KeyboardInterrupt",
          "evalue": "",
          "traceback": [
            "\u001b[0;31m---------------------------------------------------------------------------\u001b[0m",
            "\u001b[0;31mKeyboardInterrupt\u001b[0m                         Traceback (most recent call last)",
            "\u001b[0;32m<ipython-input-22-f3bb61b02039>\u001b[0m in \u001b[0;36m<cell line: 22>\u001b[0;34m()\u001b[0m\n\u001b[1;32m     20\u001b[0m         )\n\u001b[1;32m     21\u001b[0m \u001b[0;34m\u001b[0m\u001b[0m\n\u001b[0;32m---> 22\u001b[0;31m \u001b[0mquery\u001b[0m\u001b[0;34m.\u001b[0m\u001b[0mawaitTermination\u001b[0m\u001b[0;34m(\u001b[0m\u001b[0;34m)\u001b[0m\u001b[0;34m\u001b[0m\u001b[0;34m\u001b[0m\u001b[0m\n\u001b[0m",
            "\u001b[0;32m/usr/local/lib/python3.10/dist-packages/pyspark/sql/streaming/query.py\u001b[0m in \u001b[0;36mawaitTermination\u001b[0;34m(self, timeout)\u001b[0m\n\u001b[1;32m    219\u001b[0m             \u001b[0;32mreturn\u001b[0m \u001b[0mself\u001b[0m\u001b[0;34m.\u001b[0m\u001b[0m_jsq\u001b[0m\u001b[0;34m.\u001b[0m\u001b[0mawaitTermination\u001b[0m\u001b[0;34m(\u001b[0m\u001b[0mint\u001b[0m\u001b[0;34m(\u001b[0m\u001b[0mtimeout\u001b[0m \u001b[0;34m*\u001b[0m \u001b[0;36m1000\u001b[0m\u001b[0;34m)\u001b[0m\u001b[0;34m)\u001b[0m\u001b[0;34m\u001b[0m\u001b[0;34m\u001b[0m\u001b[0m\n\u001b[1;32m    220\u001b[0m         \u001b[0;32melse\u001b[0m\u001b[0;34m:\u001b[0m\u001b[0;34m\u001b[0m\u001b[0;34m\u001b[0m\u001b[0m\n\u001b[0;32m--> 221\u001b[0;31m             \u001b[0;32mreturn\u001b[0m \u001b[0mself\u001b[0m\u001b[0;34m.\u001b[0m\u001b[0m_jsq\u001b[0m\u001b[0;34m.\u001b[0m\u001b[0mawaitTermination\u001b[0m\u001b[0;34m(\u001b[0m\u001b[0;34m)\u001b[0m\u001b[0;34m\u001b[0m\u001b[0;34m\u001b[0m\u001b[0m\n\u001b[0m\u001b[1;32m    222\u001b[0m \u001b[0;34m\u001b[0m\u001b[0m\n\u001b[1;32m    223\u001b[0m     \u001b[0;34m@\u001b[0m\u001b[0mproperty\u001b[0m\u001b[0;34m\u001b[0m\u001b[0;34m\u001b[0m\u001b[0m\n",
            "\u001b[0;32m/usr/local/lib/python3.10/dist-packages/py4j/java_gateway.py\u001b[0m in \u001b[0;36m__call__\u001b[0;34m(self, *args)\u001b[0m\n\u001b[1;32m   1319\u001b[0m             \u001b[0mproto\u001b[0m\u001b[0;34m.\u001b[0m\u001b[0mEND_COMMAND_PART\u001b[0m\u001b[0;34m\u001b[0m\u001b[0;34m\u001b[0m\u001b[0m\n\u001b[1;32m   1320\u001b[0m \u001b[0;34m\u001b[0m\u001b[0m\n\u001b[0;32m-> 1321\u001b[0;31m         \u001b[0manswer\u001b[0m \u001b[0;34m=\u001b[0m \u001b[0mself\u001b[0m\u001b[0;34m.\u001b[0m\u001b[0mgateway_client\u001b[0m\u001b[0;34m.\u001b[0m\u001b[0msend_command\u001b[0m\u001b[0;34m(\u001b[0m\u001b[0mcommand\u001b[0m\u001b[0;34m)\u001b[0m\u001b[0;34m\u001b[0m\u001b[0;34m\u001b[0m\u001b[0m\n\u001b[0m\u001b[1;32m   1322\u001b[0m         return_value = get_return_value(\n\u001b[1;32m   1323\u001b[0m             answer, self.gateway_client, self.target_id, self.name)\n",
            "\u001b[0;32m/usr/local/lib/python3.10/dist-packages/py4j/java_gateway.py\u001b[0m in \u001b[0;36msend_command\u001b[0;34m(self, command, retry, binary)\u001b[0m\n\u001b[1;32m   1036\u001b[0m         \u001b[0mconnection\u001b[0m \u001b[0;34m=\u001b[0m \u001b[0mself\u001b[0m\u001b[0;34m.\u001b[0m\u001b[0m_get_connection\u001b[0m\u001b[0;34m(\u001b[0m\u001b[0;34m)\u001b[0m\u001b[0;34m\u001b[0m\u001b[0;34m\u001b[0m\u001b[0m\n\u001b[1;32m   1037\u001b[0m         \u001b[0;32mtry\u001b[0m\u001b[0;34m:\u001b[0m\u001b[0;34m\u001b[0m\u001b[0;34m\u001b[0m\u001b[0m\n\u001b[0;32m-> 1038\u001b[0;31m             \u001b[0mresponse\u001b[0m \u001b[0;34m=\u001b[0m \u001b[0mconnection\u001b[0m\u001b[0;34m.\u001b[0m\u001b[0msend_command\u001b[0m\u001b[0;34m(\u001b[0m\u001b[0mcommand\u001b[0m\u001b[0;34m)\u001b[0m\u001b[0;34m\u001b[0m\u001b[0;34m\u001b[0m\u001b[0m\n\u001b[0m\u001b[1;32m   1039\u001b[0m             \u001b[0;32mif\u001b[0m \u001b[0mbinary\u001b[0m\u001b[0;34m:\u001b[0m\u001b[0;34m\u001b[0m\u001b[0;34m\u001b[0m\u001b[0m\n\u001b[1;32m   1040\u001b[0m                 \u001b[0;32mreturn\u001b[0m \u001b[0mresponse\u001b[0m\u001b[0;34m,\u001b[0m \u001b[0mself\u001b[0m\u001b[0;34m.\u001b[0m\u001b[0m_create_connection_guard\u001b[0m\u001b[0;34m(\u001b[0m\u001b[0mconnection\u001b[0m\u001b[0;34m)\u001b[0m\u001b[0;34m\u001b[0m\u001b[0;34m\u001b[0m\u001b[0m\n",
            "\u001b[0;32m/usr/local/lib/python3.10/dist-packages/py4j/clientserver.py\u001b[0m in \u001b[0;36msend_command\u001b[0;34m(self, command)\u001b[0m\n\u001b[1;32m    509\u001b[0m         \u001b[0;32mtry\u001b[0m\u001b[0;34m:\u001b[0m\u001b[0;34m\u001b[0m\u001b[0;34m\u001b[0m\u001b[0m\n\u001b[1;32m    510\u001b[0m             \u001b[0;32mwhile\u001b[0m \u001b[0;32mTrue\u001b[0m\u001b[0;34m:\u001b[0m\u001b[0;34m\u001b[0m\u001b[0;34m\u001b[0m\u001b[0m\n\u001b[0;32m--> 511\u001b[0;31m                 \u001b[0manswer\u001b[0m \u001b[0;34m=\u001b[0m \u001b[0msmart_decode\u001b[0m\u001b[0;34m(\u001b[0m\u001b[0mself\u001b[0m\u001b[0;34m.\u001b[0m\u001b[0mstream\u001b[0m\u001b[0;34m.\u001b[0m\u001b[0mreadline\u001b[0m\u001b[0;34m(\u001b[0m\u001b[0;34m)\u001b[0m\u001b[0;34m[\u001b[0m\u001b[0;34m:\u001b[0m\u001b[0;34m-\u001b[0m\u001b[0;36m1\u001b[0m\u001b[0;34m]\u001b[0m\u001b[0;34m)\u001b[0m\u001b[0;34m\u001b[0m\u001b[0;34m\u001b[0m\u001b[0m\n\u001b[0m\u001b[1;32m    512\u001b[0m                 \u001b[0mlogger\u001b[0m\u001b[0;34m.\u001b[0m\u001b[0mdebug\u001b[0m\u001b[0;34m(\u001b[0m\u001b[0;34m\"Answer received: {0}\"\u001b[0m\u001b[0;34m.\u001b[0m\u001b[0mformat\u001b[0m\u001b[0;34m(\u001b[0m\u001b[0manswer\u001b[0m\u001b[0;34m)\u001b[0m\u001b[0;34m)\u001b[0m\u001b[0;34m\u001b[0m\u001b[0;34m\u001b[0m\u001b[0m\n\u001b[1;32m    513\u001b[0m                 \u001b[0;31m# Happens when a the other end is dead. There might be an empty\u001b[0m\u001b[0;34m\u001b[0m\u001b[0;34m\u001b[0m\u001b[0m\n",
            "\u001b[0;32m/usr/lib/python3.10/socket.py\u001b[0m in \u001b[0;36mreadinto\u001b[0;34m(self, b)\u001b[0m\n\u001b[1;32m    703\u001b[0m         \u001b[0;32mwhile\u001b[0m \u001b[0;32mTrue\u001b[0m\u001b[0;34m:\u001b[0m\u001b[0;34m\u001b[0m\u001b[0;34m\u001b[0m\u001b[0m\n\u001b[1;32m    704\u001b[0m             \u001b[0;32mtry\u001b[0m\u001b[0;34m:\u001b[0m\u001b[0;34m\u001b[0m\u001b[0;34m\u001b[0m\u001b[0m\n\u001b[0;32m--> 705\u001b[0;31m                 \u001b[0;32mreturn\u001b[0m \u001b[0mself\u001b[0m\u001b[0;34m.\u001b[0m\u001b[0m_sock\u001b[0m\u001b[0;34m.\u001b[0m\u001b[0mrecv_into\u001b[0m\u001b[0;34m(\u001b[0m\u001b[0mb\u001b[0m\u001b[0;34m)\u001b[0m\u001b[0;34m\u001b[0m\u001b[0;34m\u001b[0m\u001b[0m\n\u001b[0m\u001b[1;32m    706\u001b[0m             \u001b[0;32mexcept\u001b[0m \u001b[0mtimeout\u001b[0m\u001b[0;34m:\u001b[0m\u001b[0;34m\u001b[0m\u001b[0;34m\u001b[0m\u001b[0m\n\u001b[1;32m    707\u001b[0m                 \u001b[0mself\u001b[0m\u001b[0;34m.\u001b[0m\u001b[0m_timeout_occurred\u001b[0m \u001b[0;34m=\u001b[0m \u001b[0;32mTrue\u001b[0m\u001b[0;34m\u001b[0m\u001b[0;34m\u001b[0m\u001b[0m\n",
            "\u001b[0;31mKeyboardInterrupt\u001b[0m: "
          ]
        }
      ]
    },
    {
      "cell_type": "code",
      "source": [
        "query.status"
      ],
      "metadata": {
        "colab": {
          "base_uri": "https://localhost:8080/"
        },
        "id": "Yc1enbxz7jb_",
        "outputId": "6cf7b678-b8b5-43fa-898c-55adaa04fb36"
      },
      "execution_count": 23,
      "outputs": [
        {
          "output_type": "execute_result",
          "data": {
            "text/plain": [
              "{'message': 'Processing new data',\n",
              " 'isDataAvailable': True,\n",
              " 'isTriggerActive': True}"
            ]
          },
          "metadata": {},
          "execution_count": 23
        }
      ]
    },
    {
      "cell_type": "code",
      "source": [
        "query.isActive"
      ],
      "metadata": {
        "colab": {
          "base_uri": "https://localhost:8080/"
        },
        "id": "f5l6ZgAL7lv-",
        "outputId": "6343f54d-57b2-4519-ba96-e84a1223a8da"
      },
      "execution_count": 24,
      "outputs": [
        {
          "output_type": "execute_result",
          "data": {
            "text/plain": [
              "True"
            ]
          },
          "metadata": {},
          "execution_count": 24
        }
      ]
    },
    {
      "cell_type": "code",
      "source": [
        "query.stop()"
      ],
      "metadata": {
        "id": "2VzNk8pW8aNY"
      },
      "execution_count": 17,
      "outputs": []
    },
    {
      "cell_type": "code",
      "source": [],
      "metadata": {
        "colab": {
          "base_uri": "https://localhost:8080/"
        },
        "id": "a2WnCJDWGG-g",
        "outputId": "76ec3b9a-ea72-4d25-c41b-3e507e59d092"
      },
      "execution_count": 18,
      "outputs": [
        {
          "output_type": "execute_result",
          "data": {
            "text/plain": [
              "<pyspark.sql.streaming.query.StreamingQuery at 0x7e85ea25feb0>"
            ]
          },
          "metadata": {},
          "execution_count": 18
        }
      ]
    },
    {
      "cell_type": "code",
      "source": [
        "# Define the path to the Parquet files\n",
        "parquet_path = \"gs://edit-data-eng-project-group1/datalake/stream/vehicles_5\"\n",
        "\n",
        "# Read the Parquet files into a DataFrame\n",
        "parquet_df = spark.read.parquet(parquet_path)\n",
        "\n",
        "# Show the first few rows\n",
        "parquet_df.show(truncate=False)\n",
        "\n",
        "# Print the schema to understand the data structure\n",
        "parquet_df.printSchema()\n",
        "\n",
        "# Perform some analysis or transformations (example: count rows)\n",
        "row_count = parquet_df.count()\n",
        "print(f\"Number of rows: {row_count}\")\n",
        "\n",
        "# Example transformation: filter rows based on a condition\n",
        "filtered_df = parquet_df.filter(parquet_df.speed > 50)\n",
        "\n",
        "# Show the filtered data\n",
        "filtered_df.show()"
      ],
      "metadata": {
        "colab": {
          "base_uri": "https://localhost:8080/"
        },
        "id": "NPbjFFE7GKlO",
        "outputId": "16ddbb1e-c592-4e59-b892-65c8a05b070b"
      },
      "execution_count": 25,
      "outputs": [
        {
          "output_type": "stream",
          "name": "stdout",
          "text": [
            "+-------+------------------------------+--------------+--------+---------+-------+---------+----------+--------+---------------------+------------+---------+-------+-------------------+---------------------------------+\n",
            "|bearing|block_id                      |current_status|id      |lat      |line_id|lon      |pattern_id|route_id|schedule_relationship|shift_id    |speed    |stop_id|timestamp          |trip_id                          |\n",
            "+-------+------------------------------+--------------+--------+---------+-------+---------+----------+--------+---------------------+------------+---------+-------+-------------------+---------------------------------+\n",
            "|90     |20250103-64410390-223440234560|INCOMING_AT   |44|12697|38.70689 |4704   |-8.962685|4704_0_1  |4704_0  |SCHEDULED            |223440234560|13.333333|100398 |2025-01-03 18:36:13|4704_0_1|1400|1815_AEMLZ         |\n",
            "|67     |20250103-64410147-223240234560|IN_TRANSIT_TO |44|12655|38.684013|4701   |-8.952688|4701_0_2  |4701_0  |SCHEDULED            |223240234560|12.222222|060005 |2025-01-03 18:36:18|4701_0_2|1400|1800_AEMLZ         |\n",
            "|180    |20250103-64410145-221420234560|INCOMING_AT   |44|12069|38.72529 |4512   |-8.97277 |4512_0_1  |4512_0  |SCHEDULED            |221420234560|13.333333|100341 |2025-01-03 18:36:17|4512_0_1|1400|1810_AEMLZ         |\n",
            "|96     |20250103-64410275-213300234560|INCOMING_AT   |44|12660|38.570324|4710   |-8.905845|4710_0_1  |4710_0  |SCHEDULED            |213300234560|5.2777777|130803 |2025-01-03 18:35:36|4710_0_1|1400|1745_AEMLZ         |\n",
            "|221    |20250103-64410226-223390234560|IN_TRANSIT_TO |44|12743|38.65576 |4701   |-9.012577|4701_0_1  |4701_0  |SCHEDULED            |223390234560|9.722222 |090003 |2025-01-03 18:36:05|4701_0_1|1400|1750_AEMLZ         |\n",
            "|98     |20250103-64410425-213210234560|IN_TRANSIT_TO |44|12676|38.78537 |4720   |-9.084168|4720_0_1  |4720_0  |SCHEDULED            |213210234560|25.0     |160027 |2025-01-03 18:36:05|4720_0_1|1400|1830_AEMLZ         |\n",
            "|154    |20250103-64410092-221270234560|IN_TRANSIT_TO |44|12536|38.55457 |4612   |-8.985672|4612_0_1  |4612_0  |SCHEDULED            |221270234560|9.722222 |130441 |2025-01-03 18:36:05|4612_0_1|1400|1805_AEMLZ         |\n",
            "|159    |20250103-64410209-213290234560|IN_TRANSIT_TO |44|12674|38.696587|4720   |-8.902195|4720_0_1  |4720_0  |SCHEDULED            |213290234560|28.055555|160027 |2025-01-03 18:36:05|4720_0_1|1400|1810_AEMLZ         |\n",
            "|8      |20250103-64410026-212330234560|IN_TRANSIT_TO |44|12095|38.54103 |4422   |-8.885283|4422_0_2  |4422_0  |SCHEDULED            |212330234560|2.5      |160419 |2025-01-03 18:36:06|4422_0_2|1400|1800_AEMLZ         |\n",
            "|77     |20250103-64410285-221770234560|IN_TRANSIT_TO |44|12512|38.656086|4604   |-9.061685|4604_0_1  |4604_0  |SCHEDULED            |221770234560|8.055555 |040006 |2025-01-03 18:36:14|4604_0_1|1400|1820_AEMLZ         |\n",
            "|358    |20250103-64410269-212670234560|IN_TRANSIT_TO |44|12607|38.529797|4409   |-8.87047 |4409_0_1  |4409_0  |SCHEDULED            |212670234560|0.0      |160239 |2025-01-03 18:36:10|4409_0_1|1400|1830_AEMLZ         |\n",
            "|202    |20250103-64410192-221550234560|IN_TRANSIT_TO |44|12517|38.66232 |4521   |-8.767689|4521_0_2  |4521_0  |SCHEDULED            |221550234560|12.222222|130521 |2025-01-03 18:36:04|4521_0_2|1400|1740_AEMLZ         |\n",
            "|194    |20250103-64410094-213320234560|IN_TRANSIT_TO |44|12679|38.534706|4720   |-8.87534 |4720_0_1  |4720_0  |SCHEDULED            |213320234560|11.944445|160027 |2025-01-03 18:36:03|4720_0_1|1400|1800_AEMLZ         |\n",
            "|256    |20250103-64410251-221670234560|STOPPED_AT    |44|12528|38.706333|4600   |-8.97412 |4600_1_1  |4600_1  |SCHEDULED            |221670234560|0.0      |100015 |2025-01-03 18:36:14|4600_1_1|1400|1815_AEMLZ         |\n",
            "|252    |20250103-64410183-211240234560|IN_TRANSIT_TO |44|12519|38.55554 |4435   |-8.796585|4435_0_1  |4435_0  |SCHEDULED            |211240234560|13.055555|160653 |2025-01-03 18:36:04|4435_0_1|1400|1830_AEMLZ         |\n",
            "|57     |FER_DU_FU1068                 |IN_TRANSIT_TO |43|2347 |38.629623|3715   |-9.151689|3715_0_2  |3715_0  |SCHEDULED            |FU1098      |8.888889 |140641 |2025-01-03 18:36:02|3715_0_2_1800_1829_0_FER_DU_UYRQQ|\n",
            "|353    |20250103-64410182-223490234560|IN_TRANSIT_TO |44|13597|38.781563|4705   |-9.10494 |4705_0_1  |4705_0  |SCHEDULED            |223490234560|11.666667|100042 |2025-01-03 18:36:10|4705_0_1|1400|1830_AEMLZ         |\n",
            "|191    |20250103-64410454-223330234560|IN_TRANSIT_TO |44|12709|38.705845|4707   |-8.940006|4707_0_1  |4707_0  |SCHEDULED            |223330234560|2.2222223|100042 |2025-01-03 18:36:06|4707_0_1|1400|1810_AEMLZ         |\n",
            "|210    |4_4031-12                     |INCOMING_AT   |41|1177 |38.76079 |1011   |-9.204131|1011_1_3  |1011_1  |SCHEDULED            |4031        |6.9444447|030399 |2025-01-03 18:36:09|1011_C_1_3_1800_1829_0_4_MPLKH   |\n",
            "|345    |20250103-64410097-221280234560|INCOMING_AT   |44|13600|38.722637|4600   |-9.001438|4600_0_2  |4600_0  |SCHEDULED            |221280234560|11.944445|010178 |2025-01-03 18:36:09|4600_0_2|1400|1700_AEMLZ         |\n",
            "+-------+------------------------------+--------------+--------+---------+-------+---------+----------+--------+---------------------+------------+---------+-------+-------------------+---------------------------------+\n",
            "only showing top 20 rows\n",
            "\n",
            "root\n",
            " |-- bearing: integer (nullable = true)\n",
            " |-- block_id: string (nullable = true)\n",
            " |-- current_status: string (nullable = true)\n",
            " |-- id: string (nullable = true)\n",
            " |-- lat: float (nullable = true)\n",
            " |-- line_id: string (nullable = true)\n",
            " |-- lon: float (nullable = true)\n",
            " |-- pattern_id: string (nullable = true)\n",
            " |-- route_id: string (nullable = true)\n",
            " |-- schedule_relationship: string (nullable = true)\n",
            " |-- shift_id: string (nullable = true)\n",
            " |-- speed: float (nullable = true)\n",
            " |-- stop_id: string (nullable = true)\n",
            " |-- timestamp: timestamp (nullable = true)\n",
            " |-- trip_id: string (nullable = true)\n",
            "\n",
            "Number of rows: 1026005\n",
            "+-------+--------+--------------+---+---+-------+---+----------+--------+---------------------+--------+-----+-------+---------+-------+\n",
            "|bearing|block_id|current_status| id|lat|line_id|lon|pattern_id|route_id|schedule_relationship|shift_id|speed|stop_id|timestamp|trip_id|\n",
            "+-------+--------+--------------+---+---+-------+---+----------+--------+---------------------+--------+-----+-------+---------+-------+\n",
            "+-------+--------+--------------+---+---+-------+---+----------+--------+---------------------+--------+-----+-------+---------+-------+\n",
            "\n"
          ]
        }
      ]
    }
  ]
}